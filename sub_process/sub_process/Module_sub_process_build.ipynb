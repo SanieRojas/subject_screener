{
  "nbformat": 4,
  "nbformat_minor": 0,
  "metadata": {
    "colab": {
      "provenance": [],
      "authorship_tag": "ABX9TyNwGTXU0BtY/uKodR8/VkgY",
      "include_colab_link": true
    },
    "kernelspec": {
      "name": "python3",
      "display_name": "Python 3"
    },
    "language_info": {
      "name": "python"
    }
  },
  "cells": [
    {
      "cell_type": "markdown",
      "metadata": {
        "id": "view-in-github",
        "colab_type": "text"
      },
      "source": [
        "<a href=\"https://colab.research.google.com/github/SanieRojas/subject_screener/blob/v1/Module_sub_process_build.ipynb\" target=\"_parent\"><img src=\"https://colab.research.google.com/assets/colab-badge.svg\" alt=\"Open In Colab\"/></a>"
      ]
    },
    {
      "cell_type": "markdown",
      "source": [
        "# All imports required\n"
      ],
      "metadata": {
        "id": "laGkQgnyWwYM"
      }
    },
    {
      "cell_type": "code",
      "execution_count": 22,
      "metadata": {
        "id": "RTn09BRKWfL0"
      },
      "outputs": [],
      "source": [
        "import pandas as pd\n",
        "import re\n",
        "\n",
        "import nltk\n",
        "from nltk.corpus import stopwords\n",
        "from nltk.tokenize import word_tokenize\n",
        "from nltk.sentiment.vader import SentimentIntensityAnalyzer"
      ]
    },
    {
      "cell_type": "code",
      "source": [
        "nltk.download(['stopwords', 'vader_lexicon', 'punkt'])\n",
        "nltk.download('maxent_ne_chunker')\n",
        "nltk.download('words')\n",
        "nltk.download('averaged_perceptron_tagger')\n"
      ],
      "metadata": {
        "colab": {
          "base_uri": "https://localhost:8080/"
        },
        "id": "XqlRuE6MXRrz",
        "outputId": "1be8105c-9551-4078-ba75-15c24969f437"
      },
      "execution_count": 23,
      "outputs": [
        {
          "output_type": "stream",
          "name": "stderr",
          "text": [
            "[nltk_data] Downloading package stopwords to /root/nltk_data...\n",
            "[nltk_data]   Package stopwords is already up-to-date!\n",
            "[nltk_data] Downloading package vader_lexicon to /root/nltk_data...\n",
            "[nltk_data]   Package vader_lexicon is already up-to-date!\n",
            "[nltk_data] Downloading package punkt to /root/nltk_data...\n",
            "[nltk_data]   Package punkt is already up-to-date!\n"
          ]
        },
        {
          "output_type": "execute_result",
          "data": {
            "text/plain": [
              "True"
            ]
          },
          "metadata": {},
          "execution_count": 23
        }
      ]
    },
    {
      "cell_type": "code",
      "source": [
        "file_name = \"news_data_Israel_1697595469.csv\"\n",
        "df = pd.read_csv(file_name)"
      ],
      "metadata": {
        "id": "8CReVUFoWqds"
      },
      "execution_count": 24,
      "outputs": []
    },
    {
      "cell_type": "code",
      "source": [
        "#Pandas dataframe\n",
        "df.dtypes"
      ],
      "metadata": {
        "colab": {
          "base_uri": "https://localhost:8080/"
        },
        "id": "WnerBouoxkfJ",
        "outputId": "a643a9eb-d68b-4936-89c1-1a3fc68b8607"
      },
      "execution_count": 25,
      "outputs": [
        {
          "output_type": "execute_result",
          "data": {
            "text/plain": [
              "title                          object\n",
              "desc                          float64\n",
              "date                           object\n",
              "datetime                       object\n",
              "link                           object\n",
              "img                            object\n",
              "media                          object\n",
              "site                          float64\n",
              "2023-10-17 23:17:49.446507     object\n",
              "dtype: object"
            ]
          },
          "metadata": {},
          "execution_count": 25
        }
      ]
    },
    {
      "cell_type": "code",
      "source": [
        "#with amount of records\n",
        "df.shape"
      ],
      "metadata": {
        "colab": {
          "base_uri": "https://localhost:8080/"
        },
        "id": "6XbdgeMQPE8c",
        "outputId": "67d0b08f-d9ad-42b4-f771-95610ed41c20"
      },
      "execution_count": 26,
      "outputs": [
        {
          "output_type": "execute_result",
          "data": {
            "text/plain": [
              "(90, 9)"
            ]
          },
          "metadata": {},
          "execution_count": 26
        }
      ]
    },
    {
      "cell_type": "code",
      "source": [
        "headlines = df.drop(columns=['desc', 'date','site','link','img','media','2023-10-17 23:17:49.446507'], axis=1)\n",
        "print(headlines.head(2))\n",
        "print(headlines.dtypes)"
      ],
      "metadata": {
        "colab": {
          "base_uri": "https://localhost:8080/"
        },
        "id": "LUxlm4X3Q0Rt",
        "outputId": "18846feb-d5d7-4ee6-a5d8-683f3425d847"
      },
      "execution_count": 31,
      "outputs": [
        {
          "output_type": "stream",
          "name": "stdout",
          "text": [
            "                                               title  \\\n",
            "0  Israel-Hamas war live updates: Israel denies t...   \n",
            "1  Israel-Hamas war live: deadly Gaza hospital bl...   \n",
            "\n",
            "                     datetime  \n",
            "0  2023-10-17 22:17:51.398034  \n",
            "1  2023-10-17 22:17:51.397035  \n",
            "title       object\n",
            "datetime    object\n",
            "dtype: object\n"
          ]
        }
      ]
    },
    {
      "cell_type": "code",
      "source": [
        "# Specify the file path where you want to save the text data\n",
        "output_file = 'news.txt'\n",
        "\n",
        "# Extract the specified column as a Pandas Series & Save the column data as text in a .txt file\n",
        "column_data = headlines[\"title\"]\n",
        "column_data.to_csv(output_file, header=False, index=False, sep='\\t')\n",
        "\n",
        "print(f'Column \"{column_name}\" has been saved as text in {output_file}')"
      ],
      "metadata": {
        "id": "323u2EflrApP"
      },
      "execution_count": null,
      "outputs": []
    },
    {
      "cell_type": "code",
      "source": [
        "#define function for cleanse of the text\n",
        "def clean_text(text):\n",
        "    # Use regular expressions to keep only letters and whitespace\n",
        "    my_stopwords = nltk.corpus.stopwords.words(\"english\")\n",
        "    cleaned_text = re.sub(r'[^a-zA-Z\\s]', '', text).lower()\n",
        "    words = nltk.word_tokenize(cleaned_text)\n",
        "    words_nstw = [word for word in words if word not in my_stopwords]\n",
        "    #ideal to remove stopwords\n",
        "    return words_nstw"
      ],
      "metadata": {
        "id": "3PgsIDH2XB95"
      },
      "execution_count": 32,
      "outputs": []
    },
    {
      "cell_type": "code",
      "source": [
        "#cleanse and tokenize words\n",
        "headlines['tokens'] = headlines['title'].apply(clean_text)\n",
        "headlines.head(1)"
      ],
      "metadata": {
        "colab": {
          "base_uri": "https://localhost:8080/",
          "height": 81
        },
        "id": "R_ycbtPsXHCy",
        "outputId": "8a41bf2c-8a85-4a0c-9bd2-aad59fd15335"
      },
      "execution_count": 36,
      "outputs": [
        {
          "output_type": "execute_result",
          "data": {
            "text/plain": [
              "                                               title  \\\n",
              "0  Israel-Hamas war live updates: Israel denies t...   \n",
              "\n",
              "                     datetime  \\\n",
              "0  2023-10-17 22:17:51.398034   \n",
              "\n",
              "                                              tokens  \n",
              "0  [israelhamas, war, live, updates, israel, deni...  "
            ],
            "text/html": [
              "\n",
              "  <div id=\"df-31258db2-c6aa-4919-a43f-bb7cd8860b95\" class=\"colab-df-container\">\n",
              "    <div>\n",
              "<style scoped>\n",
              "    .dataframe tbody tr th:only-of-type {\n",
              "        vertical-align: middle;\n",
              "    }\n",
              "\n",
              "    .dataframe tbody tr th {\n",
              "        vertical-align: top;\n",
              "    }\n",
              "\n",
              "    .dataframe thead th {\n",
              "        text-align: right;\n",
              "    }\n",
              "</style>\n",
              "<table border=\"1\" class=\"dataframe\">\n",
              "  <thead>\n",
              "    <tr style=\"text-align: right;\">\n",
              "      <th></th>\n",
              "      <th>title</th>\n",
              "      <th>datetime</th>\n",
              "      <th>tokens</th>\n",
              "    </tr>\n",
              "  </thead>\n",
              "  <tbody>\n",
              "    <tr>\n",
              "      <th>0</th>\n",
              "      <td>Israel-Hamas war live updates: Israel denies t...</td>\n",
              "      <td>2023-10-17 22:17:51.398034</td>\n",
              "      <td>[israelhamas, war, live, updates, israel, deni...</td>\n",
              "    </tr>\n",
              "  </tbody>\n",
              "</table>\n",
              "</div>\n",
              "    <div class=\"colab-df-buttons\">\n",
              "\n",
              "  <div class=\"colab-df-container\">\n",
              "    <button class=\"colab-df-convert\" onclick=\"convertToInteractive('df-31258db2-c6aa-4919-a43f-bb7cd8860b95')\"\n",
              "            title=\"Convert this dataframe to an interactive table.\"\n",
              "            style=\"display:none;\">\n",
              "\n",
              "  <svg xmlns=\"http://www.w3.org/2000/svg\" height=\"24px\" viewBox=\"0 -960 960 960\">\n",
              "    <path d=\"M120-120v-720h720v720H120Zm60-500h600v-160H180v160Zm220 220h160v-160H400v160Zm0 220h160v-160H400v160ZM180-400h160v-160H180v160Zm440 0h160v-160H620v160ZM180-180h160v-160H180v160Zm440 0h160v-160H620v160Z\"/>\n",
              "  </svg>\n",
              "    </button>\n",
              "\n",
              "  <style>\n",
              "    .colab-df-container {\n",
              "      display:flex;\n",
              "      gap: 12px;\n",
              "    }\n",
              "\n",
              "    .colab-df-convert {\n",
              "      background-color: #E8F0FE;\n",
              "      border: none;\n",
              "      border-radius: 50%;\n",
              "      cursor: pointer;\n",
              "      display: none;\n",
              "      fill: #1967D2;\n",
              "      height: 32px;\n",
              "      padding: 0 0 0 0;\n",
              "      width: 32px;\n",
              "    }\n",
              "\n",
              "    .colab-df-convert:hover {\n",
              "      background-color: #E2EBFA;\n",
              "      box-shadow: 0px 1px 2px rgba(60, 64, 67, 0.3), 0px 1px 3px 1px rgba(60, 64, 67, 0.15);\n",
              "      fill: #174EA6;\n",
              "    }\n",
              "\n",
              "    .colab-df-buttons div {\n",
              "      margin-bottom: 4px;\n",
              "    }\n",
              "\n",
              "    [theme=dark] .colab-df-convert {\n",
              "      background-color: #3B4455;\n",
              "      fill: #D2E3FC;\n",
              "    }\n",
              "\n",
              "    [theme=dark] .colab-df-convert:hover {\n",
              "      background-color: #434B5C;\n",
              "      box-shadow: 0px 1px 3px 1px rgba(0, 0, 0, 0.15);\n",
              "      filter: drop-shadow(0px 1px 2px rgba(0, 0, 0, 0.3));\n",
              "      fill: #FFFFFF;\n",
              "    }\n",
              "  </style>\n",
              "\n",
              "    <script>\n",
              "      const buttonEl =\n",
              "        document.querySelector('#df-31258db2-c6aa-4919-a43f-bb7cd8860b95 button.colab-df-convert');\n",
              "      buttonEl.style.display =\n",
              "        google.colab.kernel.accessAllowed ? 'block' : 'none';\n",
              "\n",
              "      async function convertToInteractive(key) {\n",
              "        const element = document.querySelector('#df-31258db2-c6aa-4919-a43f-bb7cd8860b95');\n",
              "        const dataTable =\n",
              "          await google.colab.kernel.invokeFunction('convertToInteractive',\n",
              "                                                    [key], {});\n",
              "        if (!dataTable) return;\n",
              "\n",
              "        const docLinkHtml = 'Like what you see? Visit the ' +\n",
              "          '<a target=\"_blank\" href=https://colab.research.google.com/notebooks/data_table.ipynb>data table notebook</a>'\n",
              "          + ' to learn more about interactive tables.';\n",
              "        element.innerHTML = '';\n",
              "        dataTable['output_type'] = 'display_data';\n",
              "        await google.colab.output.renderOutput(dataTable, element);\n",
              "        const docLink = document.createElement('div');\n",
              "        docLink.innerHTML = docLinkHtml;\n",
              "        element.appendChild(docLink);\n",
              "      }\n",
              "    </script>\n",
              "  </div>\n",
              "\n",
              "    </div>\n",
              "  </div>\n"
            ]
          },
          "metadata": {},
          "execution_count": 36
        }
      ]
    },
    {
      "cell_type": "code",
      "source": [
        "headlines[\"tokens\"][0][2]"
      ],
      "metadata": {
        "colab": {
          "base_uri": "https://localhost:8080/",
          "height": 36
        },
        "id": "n4NOHO0bS6lC",
        "outputId": "8c38f4ef-6d8f-4d9f-8f4c-352657d483d2"
      },
      "execution_count": 44,
      "outputs": [
        {
          "output_type": "execute_result",
          "data": {
            "text/plain": [
              "'live'"
            ],
            "application/vnd.google.colaboratory.intrinsic+json": {
              "type": "string"
            }
          },
          "metadata": {},
          "execution_count": 44
        }
      ]
    },
    {
      "cell_type": "code",
      "source": [
        "micro_test = headlines[\"tokens\"][89]"
      ],
      "metadata": {
        "id": "MRKsaRRWj3tL"
      },
      "execution_count": 49,
      "outputs": []
    },
    {
      "cell_type": "code",
      "source": [
        "analyzer = SentimentIntensityAnalyzer()"
      ],
      "metadata": {
        "id": "fgIi_AAOebXy"
      },
      "execution_count": 46,
      "outputs": []
    },
    {
      "cell_type": "code",
      "source": [
        "sentiment_score = analyzer.polarity_scores(' '.join(micro_test))['compound']"
      ],
      "metadata": {
        "id": "pmjbYlhkeiV4"
      },
      "execution_count": 50,
      "outputs": []
    },
    {
      "cell_type": "code",
      "source": [
        "sentiment_score"
      ],
      "metadata": {
        "colab": {
          "base_uri": "https://localhost:8080/"
        },
        "id": "hB3wCq0Je7No",
        "outputId": "3bf548fb-be3d-4ee0-aa66-84aec33eb39e"
      },
      "execution_count": 51,
      "outputs": [
        {
          "output_type": "execute_result",
          "data": {
            "text/plain": [
              "-0.6908"
            ]
          },
          "metadata": {},
          "execution_count": 51
        }
      ]
    },
    {
      "cell_type": "code",
      "source": [
        "scores = []\n",
        "\n",
        "for i in range(len(headlines)):\n",
        "  tokens = headlines[\"tokens\"][i]\n",
        "  sentiment_score = analyzer.polarity_scores(' '.join(tokens))['compound']\n",
        "  scores.append(sentiment_score)\n",
        "  i + 1"
      ],
      "metadata": {
        "id": "Q6p7s2cjTxsq"
      },
      "execution_count": 55,
      "outputs": []
    },
    {
      "cell_type": "code",
      "source": [
        "len(scores)"
      ],
      "metadata": {
        "colab": {
          "base_uri": "https://localhost:8080/"
        },
        "id": "-2hFAmqTVfLx",
        "outputId": "9e026214-c40e-459c-ffe6-9acb9dcad185"
      },
      "execution_count": 57,
      "outputs": [
        {
          "output_type": "execute_result",
          "data": {
            "text/plain": [
              "90"
            ]
          },
          "metadata": {},
          "execution_count": 57
        }
      ]
    },
    {
      "cell_type": "code",
      "source": [
        "headlines[\"score\"] = scores\n",
        "print(headlines)"
      ],
      "metadata": {
        "colab": {
          "base_uri": "https://localhost:8080/"
        },
        "id": "6P6lqWjXdhUc",
        "outputId": "6a459fa5-0da9-48e5-e9eb-71f4f3e772f7"
      },
      "execution_count": 64,
      "outputs": [
        {
          "output_type": "stream",
          "name": "stdout",
          "text": [
            "                                                title  \\\n",
            "0   Israel-Hamas war live updates: Israel denies t...   \n",
            "1   Israel-Hamas war live: deadly Gaza hospital bl...   \n",
            "2   UN Security Council to vote Wednesday on Israe...   \n",
            "3   DOD Increases Deterrence Posture in Middle Eas...   \n",
            "4   Biden considering $100 bln funding request tha...   \n",
            "..                                                ...   \n",
            "85  President Joe Biden will visit Israel in high-...   \n",
            "86  Gaza tunnels give Hamas an advantage in fight ...   \n",
            "87  Teenage sisters among 10 Britons still missing...   \n",
            "88  'The people of Israel live': Hundreds rally in...   \n",
            "89  Even if Israel Crushes Hamas, New Threats Will...   \n",
            "\n",
            "                      datetime  \\\n",
            "0   2023-10-17 22:17:51.398034   \n",
            "1   2023-10-17 22:17:51.397035   \n",
            "2   2023-10-17 20:17:51.403037   \n",
            "3   2023-10-17 20:17:51.400037   \n",
            "4   2023-10-17 19:17:51.406036   \n",
            "..                         ...   \n",
            "85  2023-10-17 01:17:51.394654   \n",
            "86  2023-10-17 00:17:51.419452   \n",
            "87  2023-10-17 00:17:51.414449   \n",
            "88  2023-10-17 00:17:51.409036   \n",
            "89  2023-10-17 00:17:51.406036   \n",
            "\n",
            "                                               tokens   score  \n",
            "0   [israelhamas, war, live, updates, israel, deni... -0.8225  \n",
            "1   [israelhamas, war, live, deadly, gaza, hospita... -0.7717  \n",
            "2   [un, security, council, vote, wednesday, israe...  0.0258  \n",
            "3   [dod, increases, deterrence, posture, middle, ...  0.0000  \n",
            "4   [biden, considering, bln, funding, request, in...  0.0000  \n",
            "..                                                ...     ...  \n",
            "85  [president, joe, biden, visit, israel, highsta...  0.0000  \n",
            "86  [gaza, tunnels, give, hamas, advantage, fight,... -0.1531  \n",
            "87  [teenage, sisters, among, britons, still, miss... -0.6486  \n",
            "88  [people, israel, live, hundreds, rally, solida...  0.2960  \n",
            "89  [even, israel, crushes, hamas, new, threats, e... -0.6908  \n",
            "\n",
            "[90 rows x 4 columns]\n"
          ]
        }
      ]
    },
    {
      "cell_type": "code",
      "source": [
        "# Function to perform NER on a text\n",
        "def extract_named_entities(text):\n",
        "    cleaned_text = re.sub(r'[^a-zA-Z\\s]', '', text).lower()\n",
        "    words = nltk.word_tokenize(cleaned_text)\n",
        "    pos_tags = nltk.pos_tag(words)\n",
        "    named_entities = nltk.ne_chunk(pos_tags)\n",
        "    return named_entities"
      ],
      "metadata": {
        "id": "6FAtdKwTfT6r"
      },
      "execution_count": 74,
      "outputs": []
    },
    {
      "cell_type": "code",
      "source": [
        "headlines[\"named_entities\"] = headlines[\"title\"].apply(extract_named_entities)\n",
        "print(headlines)\n",
        "\n"
      ],
      "metadata": {
        "colab": {
          "base_uri": "https://localhost:8080/"
        },
        "id": "hf7H6CyujuhM",
        "outputId": "256ce19f-f903-4df4-f251-389bb7ddcb63"
      },
      "execution_count": 75,
      "outputs": [
        {
          "output_type": "stream",
          "name": "stdout",
          "text": [
            "                                                title  \\\n",
            "0   Israel-Hamas war live updates: Israel denies t...   \n",
            "1   Israel-Hamas war live: deadly Gaza hospital bl...   \n",
            "2   UN Security Council to vote Wednesday on Israe...   \n",
            "3   DOD Increases Deterrence Posture in Middle Eas...   \n",
            "4   Biden considering $100 bln funding request tha...   \n",
            "..                                                ...   \n",
            "85  President Joe Biden will visit Israel in high-...   \n",
            "86  Gaza tunnels give Hamas an advantage in fight ...   \n",
            "87  Teenage sisters among 10 Britons still missing...   \n",
            "88  'The people of Israel live': Hundreds rally in...   \n",
            "89  Even if Israel Crushes Hamas, New Threats Will...   \n",
            "\n",
            "                      datetime  \\\n",
            "0   2023-10-17 22:17:51.398034   \n",
            "1   2023-10-17 22:17:51.397035   \n",
            "2   2023-10-17 20:17:51.403037   \n",
            "3   2023-10-17 20:17:51.400037   \n",
            "4   2023-10-17 19:17:51.406036   \n",
            "..                         ...   \n",
            "85  2023-10-17 01:17:51.394654   \n",
            "86  2023-10-17 00:17:51.419452   \n",
            "87  2023-10-17 00:17:51.414449   \n",
            "88  2023-10-17 00:17:51.409036   \n",
            "89  2023-10-17 00:17:51.406036   \n",
            "\n",
            "                                               tokens   score  \\\n",
            "0   [israelhamas, war, live, updates, israel, deni... -0.8225   \n",
            "1   [israelhamas, war, live, deadly, gaza, hospita... -0.7717   \n",
            "2   [un, security, council, vote, wednesday, israe...  0.0258   \n",
            "3   [dod, increases, deterrence, posture, middle, ...  0.0000   \n",
            "4   [biden, considering, bln, funding, request, in...  0.0000   \n",
            "..                                                ...     ...   \n",
            "85  [president, joe, biden, visit, israel, highsta...  0.0000   \n",
            "86  [gaza, tunnels, give, hamas, advantage, fight,... -0.1531   \n",
            "87  [teenage, sisters, among, britons, still, miss... -0.6486   \n",
            "88  [people, israel, live, hundreds, rally, solida...  0.2960   \n",
            "89  [even, israel, crushes, hamas, new, threats, e... -0.6908   \n",
            "\n",
            "                                       named_entities  \n",
            "0   [(israelhamas, JJ), (war, NN), (live, JJ), (up...  \n",
            "1   [(israelhamas, JJ), (war, NN), (live, VBP), (d...  \n",
            "2   [(un, JJ), (security, NN), (council, NN), (to,...  \n",
            "3   [(dod, NN), (increases, NNS), (deterrence, NN)...  \n",
            "4   [(biden, JJ), (considering, VBG), (bln, NN), (...  \n",
            "..                                                ...  \n",
            "85  [(president, NN), (joe, NN), (biden, NN), (wil...  \n",
            "86  [(gaza, NN), (tunnels, NNS), (give, VBP), (ham...  \n",
            "87  [(teenage, NN), (sisters, NNS), (among, IN), (...  \n",
            "88  [(the, DT), (people, NNS), (of, IN), (israel, ...  \n",
            "89  [(even, RB), (if, IN), (israel, JJ), (crushes,...  \n",
            "\n",
            "[90 rows x 5 columns]\n"
          ]
        }
      ]
    },
    {
      "cell_type": "code",
      "source": [
        "from nltk import word_tokenize, pos_tag, ne_chunk\n",
        "\n",
        "def extract_entities(text_file):\n",
        "    with open(text_file, 'r') as f:\n",
        "        text = f.read()\n",
        "    entities = {}\n",
        "    for sent in nltk.sent_tokenize(text):\n",
        "        for chunk in nltk.ne_chunk(nltk.pos_tag(nltk.word_tokenize(sent))):\n",
        "            if hasattr(chunk, 'label'):\n",
        "                entity = ' '.join(c[0] for c in chunk)\n",
        "                entities[entity] = entities.get(entity, 0) + 1\n",
        "    return entities\n",
        "\n",
        "text_file = \"news.txt\"\n",
        "entities = extract_entities(text_file)\n",
        "print(entities)"
      ],
      "metadata": {
        "colab": {
          "base_uri": "https://localhost:8080/"
        },
        "id": "VRhNwRZsoQqk",
        "outputId": "b198d7fd-c6be-48d4-c9ac-3fd9f80858c8"
      },
      "execution_count": 85,
      "outputs": [
        {
          "output_type": "stream",
          "name": "stdout",
          "text": [
            "{'Israel': 45, 'Gaza': 9, 'Palestinian': 2, 'Abbas': 1, 'Biden': 6, 'Middle East': 4, 'Jordan': 2, 'UN': 2, 'Security Council': 1, 'DOD': 1, 'Deterrence Posture': 1, 'Continues Aid': 1, 'Nonprofit': 1, 'Florida': 1, 'DeSantis': 1, 'Canadian': 1, 'Israeli': 4, 'Gigi': 1, 'China': 2, 'Diplomatic': 1, 'Elon Musk': 1, 'Netanyahu': 4, 'Tlaib': 1, 'Humanitarian': 1, 'Gaza Free': 1, 'McDonald': 1, 'White House': 2, 'U.S.': 4, 'Opinion': 1, 'Joe Biden Did Right': 1, 'Hamas First': 1, 'Cyprus': 1, 'EU': 1, 'Hamas': 13, 'Putin': 1, 'US': 5, 'How Does Israel': 1, 'Gaza Compare': 1, 'Iran': 5, 'Khamenei': 2, 'Gaza Rishi': 1, 'Sky News': 1, 'Fed': 1, 'Ukraine': 1, 'Malaysia': 1, 'Frankfurt': 1, 'WATCH': 1, 'Scholz': 1, 'Germany': 2, 'Lebanon-Israel': 1, 'Sderot Israelis': 1, 'Hamas Biden Will Visit Israel': 1, 'Russia': 1, 'West': 1, 'Will Israel': 1, 'Joly': 1, 'Ukraine Eyes Israel': 1, 'New': 2, 'Missile Defense': 1, 'Spain': 1, 'Negev Bedouins': 1, 'Scholz Visits Israel': 1, 'Special Commitment Faces': 1, 'Hochul Leads Bipartisan Coalition': 1, 'Japan': 1, 'Palestinians': 1, 'Gaza Israel': 1, 'House': 2, 'Immigration': 1, 'India': 1, 'First Hours': 1, 'Actually Took Place': 1, 'Clashes': 1, 'Again Erupt': 1, 'Tim Scott': 1, 'Trump': 1, 'Israeli-Palestinian': 1, 'Jewish': 1, 'Chuck Schumer': 1, 'Khan': 1, 'Rafah Gaza': 1, 'Middle East US': 1, 'Pentagon': 1, 'Middle East Gold': 1, 'Bibi': 1, 'PM Benjamin': 1, 'CENTCOM': 1, 'North': 1, 'Korean': 1, 'Blinken': 1, 'Whirlwind Israel Diplomacy Hits Hard Mideast Realities': 1, 'Joe Biden': 1, 'Curtis Hixon Park': 1, 'Will Emerge': 1}\n"
          ]
        }
      ]
    },
    {
      "cell_type": "code",
      "source": [
        "sorted_entities = dict(sorted(entities.items(), key=lambda item: item[1], reverse=True))\n",
        "print(sorted_entities)"
      ],
      "metadata": {
        "colab": {
          "base_uri": "https://localhost:8080/"
        },
        "id": "oHxsl5xPpqCT",
        "outputId": "c6f54d39-a67c-49d0-c5b5-3dc99b7c8912"
      },
      "execution_count": 88,
      "outputs": [
        {
          "output_type": "stream",
          "name": "stdout",
          "text": [
            "{'Israel': 45, 'Hamas': 13, 'Gaza': 9, 'Biden': 6, 'US': 5, 'Iran': 5, 'Middle East': 4, 'Israeli': 4, 'Netanyahu': 4, 'U.S.': 4, 'Palestinian': 2, 'Jordan': 2, 'UN': 2, 'China': 2, 'White House': 2, 'Khamenei': 2, 'Germany': 2, 'New': 2, 'House': 2, 'Abbas': 1, 'Security Council': 1, 'DOD': 1, 'Deterrence Posture': 1, 'Continues Aid': 1, 'Nonprofit': 1, 'Florida': 1, 'DeSantis': 1, 'Canadian': 1, 'Gigi': 1, 'Diplomatic': 1, 'Elon Musk': 1, 'Tlaib': 1, 'Humanitarian': 1, 'Gaza Free': 1, 'McDonald': 1, 'Opinion': 1, 'Joe Biden Did Right': 1, 'Hamas First': 1, 'Cyprus': 1, 'EU': 1, 'Putin': 1, 'How Does Israel': 1, 'Gaza Compare': 1, 'Gaza Rishi': 1, 'Sky News': 1, 'Fed': 1, 'Ukraine': 1, 'Malaysia': 1, 'Frankfurt': 1, 'WATCH': 1, 'Scholz': 1, 'Lebanon-Israel': 1, 'Sderot Israelis': 1, 'Hamas Biden Will Visit Israel': 1, 'Russia': 1, 'West': 1, 'Will Israel': 1, 'Joly': 1, 'Ukraine Eyes Israel': 1, 'Missile Defense': 1, 'Spain': 1, 'Negev Bedouins': 1, 'Scholz Visits Israel': 1, 'Special Commitment Faces': 1, 'Hochul Leads Bipartisan Coalition': 1, 'Japan': 1, 'Palestinians': 1, 'Gaza Israel': 1, 'Immigration': 1, 'India': 1, 'First Hours': 1, 'Actually Took Place': 1, 'Clashes': 1, 'Again Erupt': 1, 'Tim Scott': 1, 'Trump': 1, 'Israeli-Palestinian': 1, 'Jewish': 1, 'Chuck Schumer': 1, 'Khan': 1, 'Rafah Gaza': 1, 'Middle East US': 1, 'Pentagon': 1, 'Middle East Gold': 1, 'Bibi': 1, 'PM Benjamin': 1, 'CENTCOM': 1, 'North': 1, 'Korean': 1, 'Blinken': 1, 'Whirlwind Israel Diplomacy Hits Hard Mideast Realities': 1, 'Joe Biden': 1, 'Curtis Hixon Park': 1, 'Will Emerge': 1}\n"
          ]
        }
      ]
    },
    {
      "cell_type": "code",
      "source": [],
      "metadata": {
        "id": "bHF3VBl0qKuR"
      },
      "execution_count": null,
      "outputs": []
    },
    {
      "cell_type": "code",
      "source": [],
      "metadata": {
        "colab": {
          "base_uri": "https://localhost:8080/"
        },
        "id": "LL-aog80owpB",
        "outputId": "8e3920df-1076-45f0-dd0b-631c47ec78dc"
      },
      "execution_count": 83,
      "outputs": [
        {
          "output_type": "stream",
          "name": "stdout",
          "text": [
            "Column \"title\" has been saved as text in news.txt\n"
          ]
        }
      ]
    }
  ]
}